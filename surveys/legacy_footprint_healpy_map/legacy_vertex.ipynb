{
 "cells": [
  {
   "cell_type": "code",
   "execution_count": 1,
   "id": "e55adb51-5dfa-4fa3-aa7e-3c90adcb45b8",
   "metadata": {},
   "outputs": [],
   "source": [
    "import healpy as hp\n",
    "import matplotlib.pyplot as plt\n",
    "import numpy as np\n",
    "import warnings\n",
    "warnings.filterwarnings('ignore')"
   ]
  },
  {
   "cell_type": "code",
   "execution_count": 2,
   "id": "7854d46d-290e-41d3-8dcb-b2ba8fcd0710",
   "metadata": {},
   "outputs": [
    {
     "name": "stdout",
     "output_type": "stream",
     "text": [
      "NSIDE = 128\n",
      "ORDERING = RING in fits file\n",
      "INDXSCHM = IMPLICIT\n"
     ]
    }
   ],
   "source": [
    "mapa = hp.read_map('../Legacy_footprint.fits')"
   ]
  },
  {
   "cell_type": "code",
   "execution_count": 3,
   "id": "28909d5f-ecc3-4a81-b96f-7eca88293229",
   "metadata": {},
   "outputs": [
    {
     "data": {
      "image/png": "[encoded data removed]",
      "text/plain": [
       "<Figure size 612x388.8 with 2 Axes>"
      ]
     },
     "metadata": {
      "needs_background": "light"
     },
     "output_type": "display_data"
    }
   ],
   "source": [
    "hp.mollview(mapa, coord='E')"
   ]
  },
  {
   "cell_type": "code",
   "execution_count": 4,
   "id": "d1dcc930-ab13-42e1-9b93-f767350dc421",
   "metadata": {},
   "outputs": [],
   "source": [
    "# coords = []\n",
    "# for ipix in np.where(mapa==1)[0]:\n",
    "#     lon, lat = hp.pixelfunc.pix2ang(128, ipix, nest=False, lonlat=True)\n",
    "#     coords.append([lon, lat])\n",
    "    \n",
    "# coords = np.array(coords)\n",
    "# np.save('coords', coords)\n",
    "\n",
    "coords = np.load('coords.npy')"
   ]
  },
  {
   "cell_type": "code",
   "execution_count": 5,
   "id": "ae03e1f2-f818-431f-b897-f99a6af35fc3",
   "metadata": {},
   "outputs": [],
   "source": [
    "Legacy_polygon1 = [1339, 1331, 1383, 1378, 1244, 1235, 1229, 1229, 1228, 1225, 1209, 1180, 1152, 1090, 1018, 986, 951, 888, 854, 814, 790, 766, 738, 694, 646, 610, 556, 516, 302, 282, 258, 244, 222, 201, 180, 167, 149, 135, 119, 103, 87, 73, 63, 45, 1]"
   ]
  },
  {
   "cell_type": "code",
   "execution_count": 6,
   "id": "6ffcc304-cecf-4aa8-a1a7-89145d9c4b4d",
   "metadata": {},
   "outputs": [
    {
     "name": "stdout",
     "output_type": "stream",
     "text": [
      "vertex1 : 177.53906d,-12.63563d\n",
      "vertex2 : 171.91406d,-12.63563d\n",
      "vertex3 : 164.53125d,-12.94163d\n",
      "vertex4 : 158.90625d,-12.94163d\n",
      "vertex5 : 153.63281d,-12.0247d\n",
      "vertex6 : 147.30469d,-12.0247d\n",
      "vertex7 : 143.08594d,-12.0247d\n",
      "vertex8 : 143.08594d,-12.0247d\n",
      "vertex9 : 134.64844d,-12.0247d\n",
      "vertex10 : 132.53906d,-12.0247d\n",
      "vertex11 : 129.72656d,-11.41516d\n",
      "vertex12 : 126.91406d,-9.59407d\n",
      "vertex13 : 125.15625d,-7.48163d\n",
      "vertex14 : 123.39844d,-4.78019d\n",
      "vertex15 : 121.28906d,-1.19375d\n",
      "vertex16 : 119.88281d,1.19375d\n",
      "vertex17 : 118.82812d,3.28437d\n",
      "vertex18 : 118.125d,5.07972d\n",
      "vertex19 : 117.42187d,6.88008d\n",
      "vertex20 : 115.3125d,9.89685d\n",
      "vertex21 : 114.60937d,11.71976d\n",
      "vertex22 : 113.90625d,13.55478d\n",
      "vertex23 : 112.85156d,15.71386d\n",
      "vertex24 : 111.09375d,19.15501d\n",
      "vertex25 : 109.6875d,22.99339d\n",
      "vertex26 : 107.92969d,25.94448d\n",
      "vertex27 : 106.17188d,30.34518d\n",
      "vertex28 : 104.41406d,33.51006d\n",
      "vertex29 : 101.95312d,38.30092d\n",
      "vertex30 : 100.19531d,41.81031d\n",
      "vertex31 : 97.30769d,46.17818d\n",
      "vertex32 : 96.13636d,48.9228d\n",
      "vertex33 : 93.18182d,53.18726d\n",
      "vertex34 : 89.5d,56.6372d\n",
      "vertex35 : 88.35366d,59.67779d\n",
      "vertex36 : 85.90909d,61.56696d\n",
      "vertex37 : 84.13043d,64.57355d\n",
      "vertex38 : 83.46774d,67.18972d\n",
      "vertex39 : 84.16667d,70.16503d\n",
      "vertex40 : 87.06522d,73.12688d\n",
      "vertex41 : 84.23077d,75.70915d\n",
      "vertex42 : 80.45455d,77.91669d\n",
      "vertex43 : 78.75d,79.75283d\n",
      "vertex44 : 82.89474d,83.05157d\n",
      "vertex45 : 168.75d,88.53803d\n"
     ]
    }
   ],
   "source": [
    "i=1\n",
    "for ra, dec in coords[Legacy_polygon1]:\n",
    "    print(f'vertex{i} : '+'{}d,{}d'.format(np.round(ra, 5), np.round(dec, 5)))\n",
    "    i+=1"
   ]
  },
  {
   "cell_type": "code",
   "execution_count": 7,
   "id": "9a6c903d-5d05-40a3-9c0e-1185d7764a73",
   "metadata": {},
   "outputs": [],
   "source": [
    "Legacy_polygon2 = [0, 2, 8, 52, 77, 122, 148, 164, 186, 217, 241, 257, 281, 303, 478, 535, 587, 619, 667, 707, 755, 799, 843, 873, 952, 975, 1015, 1031, 1054, 1081, 1066, 1066, 1075, 1114, 1106, 1121, 1135, 1165, 1189, 1204, 1249, 1246, 1245, 1291, 1428, 1469, 1465, 1426, 1421, 1353, 1349, 1346, 1343]"
   ]
  },
  {
   "cell_type": "code",
   "execution_count": 8,
   "id": "4082ebbe-7377-4498-96c0-3199c84b8362",
   "metadata": {
    "tags": []
   },
   "outputs": [
    {
     "name": "stdout",
     "output_type": "stream",
     "text": [
      "vertex1 : 146.25d,88.53803d\n",
      "vertex2 : 191.25d,88.53803d\n",
      "vertex3 : 207.0d,88.17251d\n",
      "vertex4 : 296.59091d,81.95276d\n",
      "vertex5 : 300.44118d,77.5491d\n",
      "vertex6 : 303.54545d,69.79389d\n",
      "vertex7 : 303.75d,64.94808d\n",
      "vertex8 : 300.6d,62.3204d\n",
      "vertex9 : 297.32143d,58.91978d\n",
      "vertex10 : 292.03125d,54.34091d\n",
      "vertex11 : 289.58333d,49.70239d\n",
      "vertex12 : 288.23276d,46.57185d\n",
      "vertex13 : 285.94488d,42.21037d\n",
      "vertex14 : 282.65625d,38.30092d\n",
      "vertex15 : 280.89844d,35.68533d\n",
      "vertex16 : 279.49219d,32.08995d\n",
      "vertex17 : 277.38281d,27.95319d\n",
      "vertex18 : 275.97656d,25.2826d\n",
      "vertex19 : 273.86719d,21.38194d\n",
      "vertex20 : 273.16406d,18.20996d\n",
      "vertex21 : 271.05469d,14.47751d\n",
      "vertex22 : 268.59375d,11.11088d\n",
      "vertex23 : 264.72656d,7.78271d\n",
      "vertex24 : 262.96875d,5.67919d\n",
      "vertex25 : 260.15625d,3.28437d\n",
      "vertex26 : 259.45312d,2.08937d\n",
      "vertex27 : 257.34375d,-0.89528d\n",
      "vertex28 : 255.9375d,-2.08937d\n",
      "vertex29 : 252.07031d,-3.58332d\n",
      "vertex30 : 244.6875d,-4.4808d\n",
      "vertex31 : 241.52344d,-4.18153d\n",
      "vertex32 : 241.52344d,-4.18153d\n",
      "vertex33 : 240.46875d,-4.4808d\n",
      "vertex34 : 236.60156d,-5.37938d\n",
      "vertex35 : 238.35937d,-5.07972d\n",
      "vertex36 : 234.84375d,-5.67919d\n",
      "vertex37 : 233.4375d,-6.27929d\n",
      "vertex38 : 231.67969d,-8.38554d\n",
      "vertex39 : 229.57031d,-10.19992d\n",
      "vertex40 : 227.10938d,-11.11088d\n",
      "vertex41 : 222.53906d,-12.0247d\n",
      "vertex42 : 214.10156d,-12.0247d\n",
      "vertex43 : 213.39844d,-12.0247d\n",
      "vertex44 : 210.23437d,-12.32998d\n",
      "vertex45 : 206.71875d,-12.94163d\n",
      "vertex46 : 200.74219d,-13.24801d\n",
      "vertex47 : 197.92969d,-13.24801d\n",
      "vertex48 : 194.76562d,-12.94163d\n",
      "vertex49 : 191.25d,-12.94163d\n",
      "vertex50 : 187.38281d,-12.63563d\n",
      "vertex51 : 184.57031d,-12.63563d\n",
      "vertex52 : 182.46094d,-12.63563d\n",
      "vertex53 : 180.35156d,-12.63563d\n"
     ]
    }
   ],
   "source": [
    "i=1\n",
    "for ra, dec in coords[Legacy_polygon2]:\n",
    "    print(f'vertex{i} : '+'{}d,{}d'.format(np.round(ra, 5), np.round(dec, 5)))\n",
    "    i+=1"
   ]
  },
  {
   "cell_type": "code",
   "execution_count": 9,
   "id": "fef078fd-08c3-4a86-a094-5e1ce116f154",
   "metadata": {},
   "outputs": [],
   "source": [
    "Legacy_polygon3 = [499, 609, 641, 689, 717, 761, 785, 817, 893, 881, 885, 903, 923, 1017, 1043, 1119, 1159, 1187, 1201, 1221, 1506, 1519, 1534, 1713, 1741, 1760, 1776, 1805, 1948, 1964, 2032, 2082, 2131, 2122, 2112, 2102, 2090, 2179, 2170, 2277, 2269, 2262, 2165, 2160, 2154, 2149, 2087, 2074, 2065, 2017, 1999, 1991, 1975, 1959, 1942, 1889, 1842, 1849, 1823, 1797, 1801, 1819, 1872, 1875, 1838, 1795, 1783, 1767, 1740, 1714, 1625, 1623, 1586, 1617, 1646, 1584, 1575, 1571, 1630, 1591, 1555, 1538, 1502, 1206, 1166, 1111, 1020, 976, 856, 772, 664, 448, 380, 387, 325, 310, 345, 353, 363, 369, 372]\n",
    "# [348, 352, 358, 375, 443, 1191, 1201, 1221, 1483, 1506, 1509, 1519, 1542, 1711, 1721, 1733, 1745, 1764, 1776, 1786, 2136, 2118, 2113, 2102, 2095, 2171, 2278, 2270, 2263, 2153, 2089, 1995, 1842, 1851, 1856, 1824, 1802, 1836, 1872, 1879, 1838, 1804, 1771, 1625, 1586, 1654, 1646, 1614, 1573, 1594, 1630, 1669, 1565, 1555, 1544, 1535]"
   ]
  },
  {
   "cell_type": "code",
   "execution_count": 10,
   "id": "0e4ecd1d-7835-4fca-b364-808f413dba14",
   "metadata": {},
   "outputs": [
    {
     "name": "stdout",
     "output_type": "stream",
     "text": [
      "vertex1 : 38.67188d,34.59057d\n",
      "vertex2 : 44.64844d,25.94448d\n",
      "vertex3 : 45.35156d,23.31796d\n",
      "vertex4 : 46.75781d,19.47122d\n",
      "vertex5 : 46.40625d,17.27d\n",
      "vertex6 : 46.75781d,13.86195d\n",
      "vertex7 : 46.75781d,12.0247d\n",
      "vertex8 : 47.46094d,9.59407d\n",
      "vertex9 : 64.33594d,4.78019d\n",
      "vertex10 : 66.09375d,5.07972d\n",
      "vertex11 : 68.90625d,5.07972d\n",
      "vertex12 : 71.36719d,4.78019d\n",
      "vertex13 : 72.77344d,4.18153d\n",
      "vertex14 : 78.39844d,-1.19375d\n",
      "vertex15 : 78.39844d,-2.98551d\n",
      "vertex16 : 78.75d,-5.67919d\n",
      "vertex17 : 78.75d,-8.08401d\n",
      "vertex18 : 78.39844d,-10.19992d\n",
      "vertex19 : 78.04687d,-11.11088d\n",
      "vertex20 : 77.69531d,-12.0247d\n",
      "vertex21 : 79.80469d,-13.86195d\n",
      "vertex22 : 84.375d,-14.16952d\n",
      "vertex23 : 86.83594d,-15.09479d\n",
      "vertex24 : 91.75781d,-20.74238d\n",
      "vertex25 : 93.86719d,-25.2826d\n",
      "vertex26 : 94.57031d,-28.63099d\n",
      "vertex27 : 95.97656d,-31.38817d\n",
      "vertex28 : 97.73438d,-35.31877d\n",
      "vertex29 : 98.4375d,-38.30092d\n",
      "vertex30 : 99.49219d,-41.0145d\n",
      "vertex31 : 100.78125d,-54.34091d\n",
      "vertex32 : 89.39189d,-62.69666d\n",
      "vertex33 : 73.35616d,-63.07262d\n",
      "vertex34 : 62.26027d,-63.07262d\n",
      "vertex35 : 49.93151d,-63.07262d\n",
      "vertex36 : 37.60274d,-63.07262d\n",
      "vertex37 : 22.80822d,-63.07262d\n",
      "vertex38 : 13.125d,-63.44828d\n",
      "vertex39 : 1.875d,-63.44828d\n",
      "vertex40 : 350.625d,-63.44828d\n",
      "vertex41 : 340.625d,-63.44828d\n",
      "vertex42 : 331.875d,-63.44828d\n",
      "vertex43 : 326.09589d,-63.07262d\n",
      "vertex44 : 319.93151d,-63.07262d\n",
      "vertex45 : 312.53425d,-63.07262d\n",
      "vertex46 : 306.36986d,-63.07262d\n",
      "vertex47 : 302.22973d,-62.69666d\n",
      "vertex48 : 299.80519d,-61.56696d\n",
      "vertex49 : 296.4375d,-60.43444d\n",
      "vertex50 : 295.52885d,-51.25581d\n",
      "vertex51 : 299.0708d,-47.74965d\n",
      "vertex52 : 299.61538d,-46.17818d\n",
      "vertex53 : 301.32d,-43.00863d\n",
      "vertex54 : 302.34375d,-39.83844d\n",
      "vertex55 : 305.15625d,-37.54433d\n",
      "vertex56 : 308.32031d,-36.42357d\n",
      "vertex57 : 311.48438d,-36.05359d\n",
      "vertex58 : 316.40625d,-36.05359d\n",
      "vertex59 : 325.19531d,-35.68533d\n",
      "vertex60 : 330.82031d,-34.95387d\n",
      "vertex61 : 333.63281d,-34.95387d\n",
      "vertex62 : 337.5d,-35.31877d\n",
      "vertex63 : 342.42188d,-36.05359d\n",
      "vertex64 : 344.53125d,-36.05359d\n",
      "vertex65 : 352.61719d,-35.68533d\n",
      "vertex66 : 355.07812d,-34.59057d\n",
      "vertex67 : 356.48437d,-32.44287d\n",
      "vertex68 : 357.89062d,-29.65601d\n",
      "vertex69 : 0.35156d,-25.2826d\n",
      "vertex70 : 3.51562d,-21.06182d\n",
      "vertex71 : 3.16406d,-18.20996d\n",
      "vertex72 : 1.75781d,-18.20996d\n",
      "vertex73 : 0.0d,-17.89609d\n",
      "vertex74 : 357.1875d,-17.89609d\n",
      "vertex75 : 348.39844d,-18.20996d\n",
      "vertex76 : 342.07031d,-17.58278d\n",
      "vertex77 : 335.74219d,-17.58278d\n",
      "vertex78 : 332.92969d,-17.58278d\n",
      "vertex79 : 326.60156d,-18.20996d\n",
      "vertex80 : 320.625d,-17.89609d\n",
      "vertex81 : 316.40625d,-16.64604d\n",
      "vertex82 : 311.48438d,-15.40409d\n",
      "vertex83 : 307.96875d,-13.55478d\n",
      "vertex84 : 305.85938d,-11.11088d\n",
      "vertex85 : 304.80469d,-8.38554d\n",
      "vertex86 : 303.75d,-5.07972d\n",
      "vertex87 : 304.10156d,-1.19375d\n",
      "vertex88 : 305.15625d,2.08937d\n",
      "vertex89 : 307.96875d,6.88008d\n",
      "vertex90 : 312.53906d,13.24801d\n",
      "vertex91 : 319.21875d,21.70277d\n",
      "vertex92 : 338.90625d,36.05359d\n",
      "vertex93 : 340.66406d,36.42357d\n",
      "vertex94 : 345.58594d,36.42357d\n",
      "vertex95 : 355.78125d,36.79533d\n",
      "vertex96 : 0.0d,36.79533d\n",
      "vertex97 : 10.19531d,36.42357d\n",
      "vertex98 : 15.82031d,36.42357d\n",
      "vertex99 : 22.85156d,36.42357d\n",
      "vertex100 : 27.07031d,36.42357d\n",
      "vertex101 : 29.17969d,36.42357d\n"
     ]
    }
   ],
   "source": [
    "i=1\n",
    "for ra, dec in coords[Legacy_polygon3]:\n",
    "    print(f'vertex{i} : '+'{}d,{}d'.format(np.round(ra, 5), np.round(dec, 5)))\n",
    "    i+=1"
   ]
  }
 ],
 "metadata": {
  "kernelspec": {
   "display_name": "Python 3",
   "language": "python",
   "name": "python3"
  },
  "language_info": {
   "codemirror_mode": {
    "name": "ipython",
    "version": 3
   },
   "file_extension": ".py",
   "mimetype": "text/x-python",
   "name": "python",
   "nbconvert_exporter": "python",
   "pygments_lexer": "ipython3",
   "version": "3.7.10"
  }
 },
 "nbformat": 4,
 "nbformat_minor": 5
}
