{
 "cells": [
  {
   "cell_type": "code",
   "execution_count": 1,
   "id": "463f69da-6482-4369-8d9f-4108c8bdb86d",
   "metadata": {},
   "outputs": [],
   "source": [
    "import healpy as hp\n",
    "import numpy as np\n",
    "import warnings\n",
    "warnings.filterwarnings('ignore')"
   ]
  },
  {
   "cell_type": "markdown",
   "id": "a96e8cc4-ab87-46b7-a6b5-32f4313103cd",
   "metadata": {},
   "source": [
    "Map from [CMB lensing and ISW cross-correlation with Legacy Survey](https://gitlab.com/qianjunhang/desi-legacy-survey-cross-correlations):"
   ]
  },
  {
   "cell_type": "code",
   "execution_count": 2,
   "id": "827c4b13-3c05-470e-a686-2ad882bc03ff",
   "metadata": {},
   "outputs": [
    {
     "name": "stdout",
     "output_type": "stream",
     "text": [
      "NSIDE = 1024\n",
      "ORDERING = RING in fits file\n",
      "INDXSCHM = IMPLICIT\n"
     ]
    }
   ],
   "source": [
    "map_old = hp.read_map('Legacy_footprint_completeness_mask_128.fits')"
   ]
  },
  {
   "cell_type": "code",
   "execution_count": 3,
   "id": "f5c819e2-858d-48f3-90ef-17a948d289d5",
   "metadata": {},
   "outputs": [],
   "source": [
    "alm = hp.map2alm(map_old)"
   ]
  },
  {
   "cell_type": "code",
   "execution_count": 4,
   "id": "d0a11c5a-2b20-435c-9e7f-41420637d247",
   "metadata": {},
   "outputs": [
    {
     "name": "stdout",
     "output_type": "stream",
     "text": [
      "Sigma is 145.987664 arcmin (0.042466 rad) \n",
      "-> fwhm is 343.774677 arcmin\n"
     ]
    }
   ],
   "source": [
    "nside=128\n",
    "map_new = hp.alm2map(alm, nside=nside,fwhm=0.1)\n",
    "\n",
    "map_new[map_new >= 0.1] = 1\n",
    "map_new[map_new != 1] = 0"
   ]
  },
  {
   "cell_type": "code",
   "execution_count": 5,
   "id": "8fd7b8b3-b3aa-4e4f-a135-daa68c980546",
   "metadata": {},
   "outputs": [
    {
     "data": {
      "image/png": "[encoded data removed]",
      "text/plain": [
       "<Figure size 612x388.8 with 2 Axes>"
      ]
     },
     "metadata": {
      "needs_background": "light"
     },
     "output_type": "display_data"
    }
   ],
   "source": [
    "hp.mollview(map_new)"
   ]
  },
  {
   "cell_type": "code",
   "execution_count": 6,
   "id": "db04a018-2f48-400e-b799-acb3c6f9f7b2",
   "metadata": {},
   "outputs": [],
   "source": [
    "from joblib import Parallel, delayed"
   ]
  },
  {
   "cell_type": "code",
   "execution_count": 7,
   "id": "ed230dd8-254a-4dd5-9e90-7763fc62cc4e",
   "metadata": {},
   "outputs": [],
   "source": [
    "def trans_pixel(pix):\n",
    "    coords = hp.pixelfunc.pix2ang(nside, pix, False, False)\n",
    "    if sum(map_new[hp.pixelfunc.get_all_neighbours(nside, coords[0], coords[1], False, False)])==0:\n",
    "        return 1\n",
    "    else:\n",
    "        return 0"
   ]
  },
  {
   "cell_type": "code",
   "execution_count": 8,
   "id": "166c689e-0c1e-4937-a3e0-9e549109f357",
   "metadata": {},
   "outputs": [
    {
     "name": "stdout",
     "output_type": "stream",
     "text": [
      "CPU times: user 9.65 s, sys: 789 ms, total: 10.4 s\n",
      "Wall time: 11.3 s\n"
     ]
    }
   ],
   "source": [
    "%%time\n",
    "pixel = np.array(Parallel(n_jobs=25)(delayed(trans_pixel)(i) \\\n",
    "                                          for i in range(len(map_new))))"
   ]
  },
  {
   "cell_type": "code",
   "execution_count": 9,
   "id": "d7e3a88a-89d0-46e6-ab11-2f115af3bf58",
   "metadata": {},
   "outputs": [],
   "source": [
    "Map = np.array(pixel-map_new)"
   ]
  },
  {
   "cell_type": "code",
   "execution_count": 10,
   "id": "8565f032-b61a-48dc-aae2-f4143edf65f9",
   "metadata": {},
   "outputs": [],
   "source": [
    "Map[Map == 0] = 200\n",
    "Map[Map != 200] = 0\n",
    "Map[Map == 200] = 1"
   ]
  },
  {
   "cell_type": "code",
   "execution_count": 11,
   "id": "9d4dd3bf-bfe0-4363-be57-d087a003299b",
   "metadata": {},
   "outputs": [
    {
     "data": {
      "image/png": "[encoded data removed]",
      "text/plain": [
       "<Figure size 612x388.8 with 2 Axes>"
      ]
     },
     "metadata": {
      "needs_background": "light"
     },
     "output_type": "display_data"
    }
   ],
   "source": [
    "hp.mollview(Map)"
   ]
  },
  {
   "cell_type": "code",
   "execution_count": 12,
   "id": "4f250ffd-a4a9-46dc-a2d7-b9c06374148d",
   "metadata": {},
   "outputs": [],
   "source": [
    "hp.write_map('Legacy_footprint.fits', Map, overwrite=True)"
   ]
  },
  {
   "cell_type": "markdown",
   "id": "2e0b1804-fa95-4213-a69c-8ffbb30cb754",
   "metadata": {},
   "source": [
    "With this map, I use a `matplotlib script` to obtain the image coordinates."
   ]
  },
  {
   "cell_type": "code",
   "execution_count": null,
   "id": "f6e79fdc-43d4-4f2f-a065-04cf32713c9a",
   "metadata": {},
   "outputs": [],
   "source": []
  }
 ],
 "metadata": {
  "kernelspec": {
   "display_name": "Python 3",
   "language": "python",
   "name": "python3"
  },
  "language_info": {
   "codemirror_mode": {
    "name": "ipython",
    "version": 3
   },
   "file_extension": ".py",
   "mimetype": "text/x-python",
   "name": "python",
   "nbconvert_exporter": "python",
   "pygments_lexer": "ipython3",
   "version": "3.7.10"
  }
 },
 "nbformat": 4,
 "nbformat_minor": 5
}
